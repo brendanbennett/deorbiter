{
 "cells": [
  {
   "cell_type": "code",
   "execution_count": 1,
   "metadata": {},
   "outputs": [],
   "source": [
    "import deorbit\n",
    "import matplotlib.pyplot as plt\n",
    "import deorbit.data_models\n",
    "from deorbit.predictor import EKF, EKFOnline\n",
    "from deorbit.utils.dataio import load_sim_data, load_sim_config\n",
    "import numpy as np\n",
    "from deorbit.observer import Observer\n"
   ]
  },
  {
   "cell_type": "code",
   "execution_count": 2,
   "metadata": {},
   "outputs": [
    {
     "name": "stdout",
     "output_type": "stream",
     "text": [
      "Loaded data from file\n"
     ]
    }
   ],
   "source": [
    "save_path = \"eg/EKF_example_noise/\"\n",
    "\n",
    "sim_data = load_sim_data(save_path)\n",
    "sim_config = load_sim_config(save_path)\n",
    "\n",
    "if sim_data is None or sim_config is None:\n",
    "    sim = deorbit.simulator.run(\n",
    "        \"adams_bashforth\",\n",
    "        \"coesa_atmos_fast\",\n",
    "        initial_state=np.array((deorbit.constants.EARTH_RADIUS + 150000, 0, 0, 7820)),\n",
    "        noise_types = {\"gaussian\": {\"noise_strength\": 0.01}, \"impulse\": {\"impulse_strength\": 0.1, \"impulse_probability\": 1e-5}},\n",
    "        time_step=0.1,\n",
    "    )\n",
    "    sim_data = sim.gather_data()\n",
    "    sim_config = sim.export_config()\n",
    "    sim.save_data(save_path)\n",
    "else:\n",
    "    print(\"Loaded data from file\")"
   ]
  },
  {
   "cell_type": "code",
   "execution_count": 3,
   "metadata": {},
   "outputs": [],
   "source": [
    "obs = Observer(number_of_radars=3)\n",
    "sim_states = sim_data.state_array()\n",
    "sim_times = sim_data.times\n",
    "\n",
    "obs.run(sim_states=sim_states, sim_times=sim_times, checking_interval=100)\n",
    "\n",
    "observation_times = obs.observed_times\n",
    "observation_states = obs.observed_states"
   ]
  },
  {
   "cell_type": "code",
   "execution_count": 4,
   "metadata": {},
   "outputs": [],
   "source": [
    "# Define process and measurement noise covariance matrices, think this noise should be alot bigger\n",
    "Q = np.diag([0.1, 0.1, 0.01, 0.01])#process noise\n",
    "R = np.diag([1, 1, 0.1, 0.1]) #measurement noise\n",
    "P = np.diag([1, 1, 1, 1]) #error covariance matrix - represents uncertainty in state estimation\n",
    "\n",
    "# Measurement matrix H (assuming all states are measured directly??????) -- for now\n",
    "H = np.array([[1, 0, 0, 0],\n",
    "              [0, 1, 0, 0],\n",
    "              [0, 0, 1, 0],\n",
    "              [0, 0, 0, 1]])\n",
    "\n",
    "dt = sim_config.simulation_method_kwargs.time_step\n",
    "\n",
    "ekf = EKF()"
   ]
  },
  {
   "cell_type": "code",
   "execution_count": 6,
   "metadata": {},
   "outputs": [],
   "source": [
    "# Initialize at a later time so velocity != 0\n",
    "start_step = 10\n",
    "ekf_online = EKFOnline(ekf, sim_states[start_step], sim_times[start_step], P)"
   ]
  },
  {
   "cell_type": "code",
   "execution_count": 7,
   "metadata": {},
   "outputs": [],
   "source": [
    "# A generator that yields the next observation and the time it was observed. This is a stand in for a real observer.\n",
    "def ekf_generator(sim_times, observation_states, observation_times, obs_uncertainties):\n",
    "    if obs_uncertainties.ndim == 2:\n",
    "        R = obs_uncertainties\n",
    "    dt = sim_times[1] - sim_times[0]\n",
    "    for time in sim_times:\n",
    "        j = np.argmax(observation_times > time - dt / 2)\n",
    "        if np.abs(observation_times[j] - time) < dt / 2:\n",
    "            if obs_uncertainties.ndim == 3:\n",
    "                R = obs_uncertainties[j]\n",
    "            yield time, observation_states[j], R\n",
    "        else:\n",
    "            yield time, None, None"
   ]
  },
  {
   "cell_type": "code",
   "execution_count": 8,
   "metadata": {},
   "outputs": [
    {
     "ename": "KeyboardInterrupt",
     "evalue": "",
     "output_type": "error",
     "traceback": [
      "\u001b[0;31m---------------------------------------------------------------------------\u001b[0m",
      "\u001b[0;31mKeyboardInterrupt\u001b[0m                         Traceback (most recent call last)",
      "Cell \u001b[0;32mIn[8], line 5\u001b[0m\n\u001b[1;32m      3\u001b[0m [\u001b[38;5;28mnext\u001b[39m(ekf_generator_instance) \u001b[38;5;28;01mfor\u001b[39;00m _ \u001b[38;5;129;01min\u001b[39;00m \u001b[38;5;28mrange\u001b[39m(start_step\u001b[38;5;241m-\u001b[39m\u001b[38;5;241m1\u001b[39m)]\n\u001b[1;32m      4\u001b[0m \u001b[38;5;28;01mfor\u001b[39;00m time, observation, R \u001b[38;5;129;01min\u001b[39;00m ekf_generator_instance:\n\u001b[0;32m----> 5\u001b[0m     \u001b[43mekf_online\u001b[49m\u001b[38;5;241;43m.\u001b[39;49m\u001b[43mstep\u001b[49m\u001b[43m(\u001b[49m\u001b[43mtime\u001b[49m\u001b[43m,\u001b[49m\u001b[43m \u001b[49m\u001b[43mQ\u001b[49m\u001b[43m,\u001b[49m\u001b[43m \u001b[49m\u001b[43mobservation\u001b[49m\u001b[43m,\u001b[49m\u001b[43m \u001b[49m\u001b[43mR\u001b[49m\u001b[43m,\u001b[49m\u001b[43m \u001b[49m\u001b[43mH\u001b[49m\u001b[43m)\u001b[49m\n",
      "Cell \u001b[0;32mIn[5], line 13\u001b[0m, in \u001b[0;36mEKFOnline.step\u001b[0;34m(self, time, Q, observation, R, H)\u001b[0m\n\u001b[1;32m     11\u001b[0m dt \u001b[38;5;241m=\u001b[39m time \u001b[38;5;241m-\u001b[39m \u001b[38;5;28mself\u001b[39m\u001b[38;5;241m.\u001b[39mestimated_times[\u001b[38;5;241m-\u001b[39m\u001b[38;5;241m1\u001b[39m]\n\u001b[1;32m     12\u001b[0m \u001b[38;5;28mself\u001b[39m\u001b[38;5;241m.\u001b[39mestimated_times\u001b[38;5;241m.\u001b[39mappend(time)\n\u001b[0;32m---> 13\u001b[0m x_hat, P \u001b[38;5;241m=\u001b[39m \u001b[38;5;28;43mself\u001b[39;49m\u001b[38;5;241;43m.\u001b[39;49m\u001b[43mekf\u001b[49m\u001b[38;5;241;43m.\u001b[39;49m\u001b[43mnext_state\u001b[49m\u001b[43m(\u001b[49m\n\u001b[1;32m     14\u001b[0m \u001b[43m    \u001b[49m\u001b[38;5;28;43mself\u001b[39;49m\u001b[38;5;241;43m.\u001b[39;49m\u001b[43mestimated_trajectory\u001b[49m\u001b[43m[\u001b[49m\u001b[38;5;241;43m-\u001b[39;49m\u001b[38;5;241;43m1\u001b[39;49m\u001b[43m]\u001b[49m\u001b[43m,\u001b[49m\n\u001b[1;32m     15\u001b[0m \u001b[43m    \u001b[49m\u001b[43mtime\u001b[49m\u001b[43m,\u001b[49m\n\u001b[1;32m     16\u001b[0m \u001b[43m    \u001b[49m\u001b[43mQ\u001b[49m\u001b[43m,\u001b[49m\n\u001b[1;32m     17\u001b[0m \u001b[43m    \u001b[49m\u001b[38;5;28;43mself\u001b[39;49m\u001b[38;5;241;43m.\u001b[39;49m\u001b[43muncertainties\u001b[49m\u001b[43m[\u001b[49m\u001b[38;5;241;43m-\u001b[39;49m\u001b[38;5;241;43m1\u001b[39;49m\u001b[43m]\u001b[49m\u001b[43m,\u001b[49m\n\u001b[1;32m     18\u001b[0m \u001b[43m    \u001b[49m\u001b[43mH\u001b[49m\u001b[43m,\u001b[49m\n\u001b[1;32m     19\u001b[0m \u001b[43m    \u001b[49m\u001b[43mdt\u001b[49m\u001b[38;5;241;43m=\u001b[39;49m\u001b[43mdt\u001b[49m\u001b[43m,\u001b[49m\n\u001b[1;32m     20\u001b[0m \u001b[43m    \u001b[49m\u001b[43mobservation\u001b[49m\u001b[38;5;241;43m=\u001b[39;49m\u001b[43mobservation\u001b[49m\u001b[43m,\u001b[49m\n\u001b[1;32m     21\u001b[0m \u001b[43m    \u001b[49m\u001b[43mR\u001b[49m\u001b[38;5;241;43m=\u001b[39;49m\u001b[43mR\u001b[49m\u001b[43m,\u001b[49m\n\u001b[1;32m     22\u001b[0m \u001b[43m\u001b[49m\u001b[43m)\u001b[49m\n\u001b[1;32m     23\u001b[0m \u001b[38;5;28mself\u001b[39m\u001b[38;5;241m.\u001b[39mestimated_trajectory\u001b[38;5;241m.\u001b[39mappend(x_hat)\n\u001b[1;32m     24\u001b[0m \u001b[38;5;28mself\u001b[39m\u001b[38;5;241m.\u001b[39muncertainties\u001b[38;5;241m.\u001b[39mappend(P)\n",
      "File \u001b[0;32m~/Documents/PMSC/group-project/mir-orbiter/src/deorbit/predictor/EKF.py:124\u001b[0m, in \u001b[0;36mEKF.next_state\u001b[0;34m(self, state, time, Q, P, H, dt, observation, R)\u001b[0m\n\u001b[1;32m    121\u001b[0m F_t \u001b[38;5;241m=\u001b[39m \u001b[38;5;28mself\u001b[39m\u001b[38;5;241m.\u001b[39mcompute_jacobian(state, time, accel, \u001b[38;5;28mself\u001b[39m\u001b[38;5;241m.\u001b[39matmos)\n\u001b[1;32m    122\u001b[0m Phi_t: npt\u001b[38;5;241m.\u001b[39mNDArray \u001b[38;5;241m=\u001b[39m np\u001b[38;5;241m.\u001b[39meye(\u001b[38;5;241m2\u001b[39m \u001b[38;5;241m*\u001b[39m \u001b[38;5;28mself\u001b[39m\u001b[38;5;241m.\u001b[39mdim) \u001b[38;5;241m+\u001b[39m F_t \u001b[38;5;241m*\u001b[39m \u001b[38;5;28mself\u001b[39m\u001b[38;5;241m.\u001b[39mdt\n\u001b[0;32m--> 124\u001b[0m x_hat_minus \u001b[38;5;241m=\u001b[39m \u001b[38;5;28;43mself\u001b[39;49m\u001b[38;5;241;43m.\u001b[39;49m\u001b[43mintegration_sim\u001b[49m\u001b[38;5;241;43m.\u001b[39;49m\u001b[43m_next_state\u001b[49m\u001b[43m(\u001b[49m\u001b[43mstate\u001b[49m\u001b[43m,\u001b[49m\u001b[43m \u001b[49m\u001b[43mtime\u001b[49m\u001b[43m)\u001b[49m\n\u001b[1;32m    125\u001b[0m P_minus \u001b[38;5;241m=\u001b[39m Phi_t \u001b[38;5;241m@\u001b[39m P \u001b[38;5;241m@\u001b[39m Phi_t\u001b[38;5;241m.\u001b[39mT \u001b[38;5;241m+\u001b[39m Q\n\u001b[1;32m    126\u001b[0m \u001b[38;5;28;01mif\u001b[39;00m np\u001b[38;5;241m.\u001b[39many(np\u001b[38;5;241m.\u001b[39misnan(P_minus)):\n",
      "File \u001b[0;32m~/Documents/PMSC/group-project/mir-orbiter/src/deorbit/simulator/simulator.py:422\u001b[0m, in \u001b[0;36mRK4Simulator._next_state\u001b[0;34m(self, state, time)\u001b[0m\n\u001b[1;32m    420\u001b[0m \u001b[38;5;28;01mdef\u001b[39;00m \u001b[38;5;21m_next_state\u001b[39m(\u001b[38;5;28mself\u001b[39m, state, time) \u001b[38;5;241m-\u001b[39m\u001b[38;5;241m>\u001b[39m npt\u001b[38;5;241m.\u001b[39mNDArray:\n\u001b[1;32m    421\u001b[0m     next_state \u001b[38;5;241m=\u001b[39m np\u001b[38;5;241m.\u001b[39marray(state)\n\u001b[0;32m--> 422\u001b[0m     k1 \u001b[38;5;241m=\u001b[39m \u001b[38;5;28;43mself\u001b[39;49m\u001b[38;5;241;43m.\u001b[39;49m\u001b[43m_objective_function\u001b[49m\u001b[43m(\u001b[49m\u001b[43mstate\u001b[49m\u001b[43m,\u001b[49m\u001b[43m \u001b[49m\u001b[43mtime\u001b[49m\u001b[43m)\u001b[49m\n\u001b[1;32m    423\u001b[0m     k2 \u001b[38;5;241m=\u001b[39m \u001b[38;5;28mself\u001b[39m\u001b[38;5;241m.\u001b[39m_objective_function(\n\u001b[1;32m    424\u001b[0m         (state \u001b[38;5;241m+\u001b[39m (\u001b[38;5;28mself\u001b[39m\u001b[38;5;241m.\u001b[39mtime_step \u001b[38;5;241m*\u001b[39m k1) \u001b[38;5;241m/\u001b[39m \u001b[38;5;241m2\u001b[39m),\n\u001b[1;32m    425\u001b[0m         (time \u001b[38;5;241m+\u001b[39m \u001b[38;5;28mself\u001b[39m\u001b[38;5;241m.\u001b[39mtime_step \u001b[38;5;241m/\u001b[39m \u001b[38;5;241m2\u001b[39m),\n\u001b[1;32m    426\u001b[0m     )\n\u001b[1;32m    427\u001b[0m     k3 \u001b[38;5;241m=\u001b[39m \u001b[38;5;28mself\u001b[39m\u001b[38;5;241m.\u001b[39m_objective_function(\n\u001b[1;32m    428\u001b[0m         (state \u001b[38;5;241m+\u001b[39m (\u001b[38;5;28mself\u001b[39m\u001b[38;5;241m.\u001b[39mtime_step \u001b[38;5;241m*\u001b[39m k2) \u001b[38;5;241m/\u001b[39m \u001b[38;5;241m2\u001b[39m),\n\u001b[1;32m    429\u001b[0m         (time \u001b[38;5;241m+\u001b[39m \u001b[38;5;28mself\u001b[39m\u001b[38;5;241m.\u001b[39mtime_step \u001b[38;5;241m/\u001b[39m \u001b[38;5;241m2\u001b[39m),\n\u001b[1;32m    430\u001b[0m     )\n",
      "File \u001b[0;32m~/Documents/PMSC/group-project/mir-orbiter/src/deorbit/simulator/simulator.py:218\u001b[0m, in \u001b[0;36mSimulator._objective_function\u001b[0;34m(self, state, time)\u001b[0m\n\u001b[1;32m    215\u001b[0m \u001b[38;5;28;01mdef\u001b[39;00m \u001b[38;5;21m_objective_function\u001b[39m(\u001b[38;5;28mself\u001b[39m, state: np\u001b[38;5;241m.\u001b[39mndarray, time: \u001b[38;5;28mfloat\u001b[39m) \u001b[38;5;241m-\u001b[39m\u001b[38;5;241m>\u001b[39m np\u001b[38;5;241m.\u001b[39mndarray:\n\u001b[1;32m    216\u001b[0m \u001b[38;5;250m    \u001b[39m\u001b[38;5;124;03m\"\"\"The function that gives the derivative our state vector x' = f(x,t).\u001b[39;00m\n\u001b[1;32m    217\u001b[0m \u001b[38;5;124;03m    Returns a flat array (x1', x2', x3', v1', v2', v3')\"\"\"\u001b[39;00m\n\u001b[0;32m--> 218\u001b[0m     accel \u001b[38;5;241m=\u001b[39m \u001b[38;5;28;43mself\u001b[39;49m\u001b[38;5;241;43m.\u001b[39;49m\u001b[43m_calculate_accel\u001b[49m\u001b[43m(\u001b[49m\u001b[43mstate\u001b[49m\u001b[43m,\u001b[49m\u001b[43m \u001b[49m\u001b[43mtime\u001b[49m\u001b[43m)\u001b[49m\n\u001b[1;32m    219\u001b[0m     \u001b[38;5;28;01mreturn\u001b[39;00m np\u001b[38;5;241m.\u001b[39mconcatenate((state[\u001b[38;5;28mself\u001b[39m\u001b[38;5;241m.\u001b[39mdim :], accel))\n",
      "File \u001b[0;32m~/Documents/PMSC/group-project/mir-orbiter/src/deorbit/simulator/simulator.py:185\u001b[0m, in \u001b[0;36mSimulator._calculate_accel\u001b[0;34m(self, state, time)\u001b[0m\n\u001b[1;32m    184\u001b[0m \u001b[38;5;28;01mdef\u001b[39;00m \u001b[38;5;21m_calculate_accel\u001b[39m(\u001b[38;5;28mself\u001b[39m, state: np\u001b[38;5;241m.\u001b[39mndarray, time: \u001b[38;5;28mfloat\u001b[39m) \u001b[38;5;241m-\u001b[39m\u001b[38;5;241m>\u001b[39m np\u001b[38;5;241m.\u001b[39mndarray:\n\u001b[0;32m--> 185\u001b[0m     drag_accel \u001b[38;5;241m=\u001b[39m \u001b[38;5;28;43mself\u001b[39;49m\u001b[38;5;241;43m.\u001b[39;49m\u001b[43m_drag_accel\u001b[49m\u001b[43m(\u001b[49m\u001b[43mstate\u001b[49m\u001b[38;5;241;43m=\u001b[39;49m\u001b[43mstate\u001b[49m\u001b[43m,\u001b[49m\u001b[43m \u001b[49m\u001b[43mtime\u001b[49m\u001b[38;5;241;43m=\u001b[39;49m\u001b[43mtime\u001b[49m\u001b[43m)\u001b[49m\n\u001b[1;32m    186\u001b[0m     grav_accel \u001b[38;5;241m=\u001b[39m \u001b[38;5;28mself\u001b[39m\u001b[38;5;241m.\u001b[39m_gravity_accel(state\u001b[38;5;241m=\u001b[39mstate)\n\u001b[1;32m    187\u001b[0m     \u001b[38;5;66;03m# print(f\"state {state} at time {time} has drag accel {np.linalg.norm(drag_accel)} \\\u001b[39;00m\n\u001b[1;32m    188\u001b[0m     \u001b[38;5;66;03m# and gravity accel {np.linalg.norm(grav_accel)}\")\u001b[39;00m\n",
      "File \u001b[0;32m~/Documents/PMSC/group-project/mir-orbiter/src/deorbit/simulator/simulator.py:176\u001b[0m, in \u001b[0;36mSimulator._drag_accel\u001b[0;34m(self, state, time)\u001b[0m\n\u001b[1;32m    163\u001b[0m \u001b[38;5;28;01mdef\u001b[39;00m \u001b[38;5;21m_drag_accel\u001b[39m(\u001b[38;5;28mself\u001b[39m, state: np\u001b[38;5;241m.\u001b[39mndarray, time: \u001b[38;5;28mfloat\u001b[39m) \u001b[38;5;241m-\u001b[39m\u001b[38;5;241m>\u001b[39m np\u001b[38;5;241m.\u001b[39mndarray:\n\u001b[1;32m    164\u001b[0m \u001b[38;5;250m    \u001b[39m\u001b[38;5;124;03m\"\"\"Calculates acceleration on the satellite due to drag in a particular state.\u001b[39;00m\n\u001b[1;32m    165\u001b[0m \u001b[38;5;124;03m    Uses the chosen atmosphere model to calculate air density.\u001b[39;00m\n\u001b[1;32m    166\u001b[0m \n\u001b[0;32m   (...)\u001b[0m\n\u001b[1;32m    172\u001b[0m \u001b[38;5;124;03m        np.ndarray: Acceleration by drag vector\u001b[39;00m\n\u001b[1;32m    173\u001b[0m \u001b[38;5;124;03m    \"\"\"\u001b[39;00m\n\u001b[1;32m    174\u001b[0m     accel \u001b[38;5;241m=\u001b[39m (\n\u001b[1;32m    175\u001b[0m         \u001b[38;5;241m-\u001b[39m(\u001b[38;5;241m1\u001b[39m \u001b[38;5;241m/\u001b[39m (\u001b[38;5;241m2\u001b[39m \u001b[38;5;241m*\u001b[39m SATELLITE_MASS))\n\u001b[0;32m--> 176\u001b[0m         \u001b[38;5;241m*\u001b[39m \u001b[38;5;28;43mself\u001b[39;49m\u001b[38;5;241;43m.\u001b[39;49m\u001b[43matmosphere\u001b[49m\u001b[43m(\u001b[49m\u001b[43mstate\u001b[49m\u001b[43m,\u001b[49m\u001b[43m \u001b[49m\u001b[43mtime\u001b[49m\u001b[43m)\u001b[49m\n\u001b[1;32m    177\u001b[0m         \u001b[38;5;241m*\u001b[39m MEAN_XSECTIONAL_AREA\n\u001b[1;32m    178\u001b[0m         \u001b[38;5;241m*\u001b[39m MEAN_DRAG_COEFF\n\u001b[1;32m    179\u001b[0m         \u001b[38;5;241m*\u001b[39m state[\u001b[38;5;28mself\u001b[39m\u001b[38;5;241m.\u001b[39mdim :]\n\u001b[1;32m    180\u001b[0m         \u001b[38;5;241m*\u001b[39m np\u001b[38;5;241m.\u001b[39mlinalg\u001b[38;5;241m.\u001b[39mnorm(state[\u001b[38;5;28mself\u001b[39m\u001b[38;5;241m.\u001b[39mdim :])\n\u001b[1;32m    181\u001b[0m     )\n\u001b[1;32m    182\u001b[0m     \u001b[38;5;28;01mreturn\u001b[39;00m accel\n",
      "File \u001b[0;32m~/Documents/PMSC/group-project/mir-orbiter/src/deorbit/simulator/simulator.py:148\u001b[0m, in \u001b[0;36mSimulator.atmosphere\u001b[0;34m(self, state, time)\u001b[0m\n\u001b[1;32m    147\u001b[0m \u001b[38;5;28;01mdef\u001b[39;00m \u001b[38;5;21matmosphere\u001b[39m(\u001b[38;5;28mself\u001b[39m, state: np\u001b[38;5;241m.\u001b[39mndarray, time: \u001b[38;5;28mfloat\u001b[39m) \u001b[38;5;241m-\u001b[39m\u001b[38;5;241m>\u001b[39m \u001b[38;5;28mfloat\u001b[39m:\n\u001b[0;32m--> 148\u001b[0m     \u001b[38;5;28;01mreturn\u001b[39;00m \u001b[38;5;28;43mself\u001b[39;49m\u001b[38;5;241;43m.\u001b[39;49m\u001b[43m_atmosphere_model\u001b[49m\u001b[38;5;241;43m.\u001b[39;49m\u001b[43mdensity\u001b[49m\u001b[43m(\u001b[49m\u001b[43mstate\u001b[49m\u001b[43m,\u001b[49m\u001b[43m \u001b[49m\u001b[43mtime\u001b[49m\u001b[43m)\u001b[49m\n",
      "File \u001b[0;32m~/Documents/PMSC/group-project/mir-orbiter/src/deorbit/simulator/atmos.py:203\u001b[0m, in \u001b[0;36mCoesaAtmosFast.density\u001b[0;34m(self, state, time)\u001b[0m\n\u001b[1;32m    200\u001b[0m position \u001b[38;5;241m=\u001b[39m state[:dim]\n\u001b[1;32m    202\u001b[0m height \u001b[38;5;241m=\u001b[39m np\u001b[38;5;241m.\u001b[39mlinalg\u001b[38;5;241m.\u001b[39mnorm(position) \u001b[38;5;241m-\u001b[39m \u001b[38;5;28mself\u001b[39m\u001b[38;5;241m.\u001b[39mkwargs\u001b[38;5;241m.\u001b[39mearth_radius\n\u001b[0;32m--> 203\u001b[0m rounded_height \u001b[38;5;241m=\u001b[39m \u001b[43mnp\u001b[49m\u001b[38;5;241;43m.\u001b[39;49m\u001b[43mround\u001b[49m\u001b[43m(\u001b[49m\u001b[43mheight\u001b[49m\u001b[43m,\u001b[49m\u001b[43m \u001b[49m\u001b[43mdecimals\u001b[49m\u001b[38;5;241;43m=\u001b[39;49m\u001b[38;5;241;43m-\u001b[39;49m\u001b[38;5;28;43mself\u001b[39;49m\u001b[38;5;241;43m.\u001b[39;49m\u001b[43mkwargs\u001b[49m\u001b[38;5;241;43m.\u001b[39;49m\u001b[43mprecision\u001b[49m\u001b[43m)\u001b[49m\n\u001b[1;32m    204\u001b[0m rounded_height \u001b[38;5;241m=\u001b[39m (\n\u001b[1;32m    205\u001b[0m     rounded_height\n\u001b[1;32m    206\u001b[0m     \u001b[38;5;28;01mif\u001b[39;00m rounded_height \u001b[38;5;241m>\u001b[39m\u001b[38;5;241m=\u001b[39m \u001b[38;5;28mself\u001b[39m\u001b[38;5;241m.\u001b[39m_start\n\u001b[1;32m    207\u001b[0m     \u001b[38;5;28;01melse\u001b[39;00m rounded_height \u001b[38;5;241m+\u001b[39m \u001b[38;5;241m10\u001b[39m\u001b[38;5;241m*\u001b[39m\u001b[38;5;241m*\u001b[39m\u001b[38;5;28mself\u001b[39m\u001b[38;5;241m.\u001b[39mkwargs\u001b[38;5;241m.\u001b[39mprecision\n\u001b[1;32m    208\u001b[0m )\n\u001b[1;32m    209\u001b[0m \u001b[38;5;28;01mtry\u001b[39;00m:\n",
      "File \u001b[0;32m~/miniforge3/envs/mir-project/lib/python3.10/site-packages/numpy/core/fromnumeric.py:3265\u001b[0m, in \u001b[0;36m_round_dispatcher\u001b[0;34m(a, decimals, out)\u001b[0m\n\u001b[1;32m   3261\u001b[0m         \u001b[38;5;28;01mexcept\u001b[39;00m \u001b[38;5;167;01mAttributeError\u001b[39;00m:\n\u001b[1;32m   3262\u001b[0m             \u001b[38;5;28;01mreturn\u001b[39;00m asarray(a)\u001b[38;5;241m.\u001b[39mshape[axis]\n\u001b[0;32m-> 3265\u001b[0m \u001b[38;5;28;01mdef\u001b[39;00m \u001b[38;5;21m_round_dispatcher\u001b[39m(a, decimals\u001b[38;5;241m=\u001b[39m\u001b[38;5;28;01mNone\u001b[39;00m, out\u001b[38;5;241m=\u001b[39m\u001b[38;5;28;01mNone\u001b[39;00m):\n\u001b[1;32m   3266\u001b[0m     \u001b[38;5;28;01mreturn\u001b[39;00m (a, out)\n\u001b[1;32m   3269\u001b[0m \u001b[38;5;129m@array_function_dispatch\u001b[39m(_round_dispatcher)\n\u001b[1;32m   3270\u001b[0m \u001b[38;5;28;01mdef\u001b[39;00m \u001b[38;5;21mround\u001b[39m(a, decimals\u001b[38;5;241m=\u001b[39m\u001b[38;5;241m0\u001b[39m, out\u001b[38;5;241m=\u001b[39m\u001b[38;5;28;01mNone\u001b[39;00m):\n",
      "\u001b[0;31mKeyboardInterrupt\u001b[0m: "
     ]
    }
   ],
   "source": [
    "ekf_generator_instance = ekf_generator(sim_times, observation_states, observation_times, P)\n",
    "# Skip ahead to start\n",
    "[next(ekf_generator_instance) for _ in range(start_step-1)]\n",
    "for time, observation, R in ekf_generator_instance:\n",
    "    ekf_online.step(time, Q, observation, R, H)"
   ]
  }
 ],
 "metadata": {
  "kernelspec": {
   "display_name": "mir-project",
   "language": "python",
   "name": "python3"
  },
  "language_info": {
   "codemirror_mode": {
    "name": "ipython",
    "version": 3
   },
   "file_extension": ".py",
   "mimetype": "text/x-python",
   "name": "python",
   "nbconvert_exporter": "python",
   "pygments_lexer": "ipython3",
   "version": "3.10.13"
  }
 },
 "nbformat": 4,
 "nbformat_minor": 2
}
