{
 "cells": [
  {
   "cell_type": "code",
   "execution_count": 2,
   "metadata": {},
   "outputs": [],
   "source": [
    "import deorbit\n",
    "import numpy as np"
   ]
  },
  {
   "cell_type": "code",
   "execution_count": 3,
   "metadata": {},
   "outputs": [
    {
     "name": "stdout",
     "output_type": "stream",
     "text": [
      "Running simulation with Two-step Adams-Bashforth integrator\n",
      "Ran 118549 iterations at time step of 0.1 seconds\n",
      "Impacted at [4148054.42601309 4835620.9371698 ] at velocity [-32.34542973 -37.70689127] at simulated time 11855.000000025597s.\n",
      "Simulation finished in 3.95298 seconds\n"
     ]
    },
    {
     "data": {
      "text/plain": [
       "<deorbit.simulator.simulator.AdamsBashforthSimulator at 0x7fd7e174eec0>"
      ]
     },
     "execution_count": 3,
     "metadata": {},
     "output_type": "execute_result"
    }
   ],
   "source": [
    "deorbit.simulator.run(\n",
    "    \"adams_bashforth\",\n",
    "    \"coesa_atmos_fast\",\n",
    "    initial_state=np.array((deorbit.constants.EARTH_RADIUS + 100000, 0, 0, 8000)),\n",
    "    time_step=0.1\n",
    ")"
   ]
  }
 ],
 "metadata": {
  "kernelspec": {
   "display_name": "mir-project",
   "language": "python",
   "name": "python3"
  },
  "language_info": {
   "codemirror_mode": {
    "name": "ipython",
    "version": 3
   },
   "file_extension": ".py",
   "mimetype": "text/x-python",
   "name": "python",
   "nbconvert_exporter": "python",
   "pygments_lexer": "ipython3",
   "version": "3.10.13"
  }
 },
 "nbformat": 4,
 "nbformat_minor": 2
}
