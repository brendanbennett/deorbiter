{
 "cells": [
  {
   "cell_type": "code",
   "execution_count": 1,
   "metadata": {},
   "outputs": [],
   "source": [
    "import deorbit\n",
    "import numpy as np"
   ]
  },
  {
   "cell_type": "code",
   "execution_count": 2,
   "metadata": {},
   "outputs": [
    {
     "name": "stdout",
     "output_type": "stream",
     "text": [
      "Running simulation with Two-step Adams-Bashforth integrator\n",
      "Ran 118549 iterations at time step of 0.1 seconds\n",
      "Impacted at [4148054.42601309 4835620.9371698 ] at velocity [-32.34542973 -37.70689127] at simulated time 11855.000000025597s.\n",
      "Simulation finished in 3.89965 seconds\n"
     ]
    },
    {
     "data": {
      "text/plain": [
       "(array([[ 6.47100000e+06,  0.00000000e+00,  0.00000000e+00,\n",
       "          8.00000000e+03],\n",
       "        [ 6.47100000e+06,  8.00000000e+02, -9.51907999e-01,\n",
       "          7.99998822e+03],\n",
       "        [ 6.47099986e+06,  1.59999823e+03, -1.90381386e+00,\n",
       "          7.99997626e+03],\n",
       "        ...,\n",
       "        [ 4.14806090e+06,  4.83562848e+06, -3.23609375e+01,\n",
       "         -3.77249696e+01],\n",
       "        [ 4.14805766e+06,  4.83562471e+06, -3.23530282e+01,\n",
       "         -3.77157492e+01],\n",
       "        [ 4.14805443e+06,  4.83562094e+06, -3.23454297e+01,\n",
       "         -3.77068913e+01]]),\n",
       " array([0.00000e+00, 1.00000e-01, 2.00000e-01, ..., 1.18548e+04,\n",
       "        1.18549e+04, 1.18550e+04]))"
      ]
     },
     "execution_count": 2,
     "metadata": {},
     "output_type": "execute_result"
    }
   ],
   "source": [
    "deorbit.simulator.run(\n",
    "    \"adams_bashforth\",\n",
    "    \"coesa_atmos_fast\",\n",
    "    initial_state=np.array((deorbit.constants.EARTH_RADIUS + 100000, 0, 0, 8000)),\n",
    "    time_step=0.1\n",
    ")"
   ]
  }
 ],
 "metadata": {
  "kernelspec": {
   "display_name": "mir-project",
   "language": "python",
   "name": "python3"
  },
  "language_info": {
   "codemirror_mode": {
    "name": "ipython",
    "version": 3
   },
   "file_extension": ".py",
   "mimetype": "text/x-python",
   "name": "python",
   "nbconvert_exporter": "python",
   "pygments_lexer": "ipython3",
   "version": "3.10.13"
  }
 },
 "nbformat": 4,
 "nbformat_minor": 2
}
