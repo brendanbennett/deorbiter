{
 "cells": [
  {
   "cell_type": "code",
   "execution_count": 1,
   "metadata": {},
   "outputs": [],
   "source": [
    "import deorbit"
   ]
  },
  {
   "cell_type": "code",
   "execution_count": 2,
   "metadata": {},
   "outputs": [
    {
     "name": "stdout",
     "output_type": "stream",
     "text": [
      "Available sim methods: ['adams_bashforth', 'euler']\n",
      "Available sim methods: ['coesa_atmos', 'coesa_atmos_fast', 'icao_standard_atmos', 'simple_atmos']\n"
     ]
    }
   ],
   "source": [
    "print(f\"Available sim methods: {list(deorbit.simulator.get_available_sim_methods().keys())}\")\n",
    "print(f\"Available sim methods: {list(deorbit.simulator.get_available_atmos_models().keys())}\")"
   ]
  },
  {
   "cell_type": "code",
   "execution_count": 3,
   "metadata": {},
   "outputs": [],
   "source": [
    "sim = deorbit.simulator.Simulator(\n",
    "    deorbit.data_models.SimConfig(\n",
    "        time_step=0.1,\n",
    "        initial_values=(\n",
    "            (deorbit.constants.EARTH_RADIUS + 185000, 0, 0, 8000),\n",
    "            0,\n",
    "        ),\n",
    "        simulation_method=\"adams_bashforth\",\n",
    "        atmosphere_model=\"coesa_atmos_fast\",\n",
    "    )\n",
    ")"
   ]
  },
  {
   "cell_type": "code",
   "execution_count": 4,
   "metadata": {},
   "outputs": [
    {
     "name": "stdout",
     "output_type": "stream",
     "text": [
      "Running simulation with Two-step Adams-Bashforth integrator\n",
      "Ran 1000 iterations at time step of 0.1 seconds\n",
      "Simulation finished in 0.03763 seconds\n"
     ]
    }
   ],
   "source": [
    "sim.run(1000)"
   ]
  }
 ],
 "metadata": {
  "kernelspec": {
   "display_name": "mir-project",
   "language": "python",
   "name": "python3"
  },
  "language_info": {
   "codemirror_mode": {
    "name": "ipython",
    "version": 3
   },
   "file_extension": ".py",
   "mimetype": "text/x-python",
   "name": "python",
   "nbconvert_exporter": "python",
   "pygments_lexer": "ipython3",
   "version": "3.10.13"
  }
 },
 "nbformat": 4,
 "nbformat_minor": 2
}
